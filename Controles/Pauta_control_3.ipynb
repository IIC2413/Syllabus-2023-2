{
  "nbformat": 4,
  "nbformat_minor": 0,
  "metadata": {
    "colab": {
      "provenance": [],
      "collapsed_sections": [
        "3Sxe278IIUGO"
      ]
    },
    "kernelspec": {
      "name": "python3",
      "display_name": "Python 3"
    }
  },
  "cells": [
    {
      "cell_type": "markdown",
      "source": [
        "#**Control 3**"
      ],
      "metadata": {
        "id": "6fgU_vTdm2xH"
      }
    },
    {
      "cell_type": "markdown",
      "source": [
        "##Setup"
      ],
      "metadata": {
        "id": "mjADSlwdncPi"
      }
    },
    {
      "cell_type": "code",
      "source": [
        "!pip install --upgrade --no-cache-dir gdown\n",
        "!gdown https://drive.google.com/uc?id=1mGxfX7NKoKxlpaQxvCZzq6niLpf3Ziaq"
      ],
      "metadata": {
        "colab": {
          "base_uri": "https://localhost:8080/"
        },
        "id": "sBDirdKpAexk",
        "outputId": "703fdd92-abf0-4861-e833-d68c5998bf65"
      },
      "execution_count": null,
      "outputs": [
        {
          "output_type": "stream",
          "name": "stdout",
          "text": [
            "Requirement already satisfied: gdown in /usr/local/lib/python3.10/dist-packages (4.6.6)\n",
            "Collecting gdown\n",
            "  Downloading gdown-4.7.1-py3-none-any.whl (15 kB)\n",
            "Requirement already satisfied: filelock in /usr/local/lib/python3.10/dist-packages (from gdown) (3.13.1)\n",
            "Requirement already satisfied: requests[socks] in /usr/local/lib/python3.10/dist-packages (from gdown) (2.31.0)\n",
            "Requirement already satisfied: six in /usr/local/lib/python3.10/dist-packages (from gdown) (1.16.0)\n",
            "Requirement already satisfied: tqdm in /usr/local/lib/python3.10/dist-packages (from gdown) (4.66.1)\n",
            "Requirement already satisfied: beautifulsoup4 in /usr/local/lib/python3.10/dist-packages (from gdown) (4.11.2)\n",
            "Requirement already satisfied: soupsieve>1.2 in /usr/local/lib/python3.10/dist-packages (from beautifulsoup4->gdown) (2.5)\n",
            "Requirement already satisfied: charset-normalizer<4,>=2 in /usr/local/lib/python3.10/dist-packages (from requests[socks]->gdown) (3.3.2)\n",
            "Requirement already satisfied: idna<4,>=2.5 in /usr/local/lib/python3.10/dist-packages (from requests[socks]->gdown) (3.6)\n",
            "Requirement already satisfied: urllib3<3,>=1.21.1 in /usr/local/lib/python3.10/dist-packages (from requests[socks]->gdown) (2.0.7)\n",
            "Requirement already satisfied: certifi>=2017.4.17 in /usr/local/lib/python3.10/dist-packages (from requests[socks]->gdown) (2023.11.17)\n",
            "Requirement already satisfied: PySocks!=1.5.7,>=1.5.6 in /usr/local/lib/python3.10/dist-packages (from requests[socks]->gdown) (1.7.1)\n",
            "Installing collected packages: gdown\n",
            "  Attempting uninstall: gdown\n",
            "    Found existing installation: gdown 4.6.6\n",
            "    Uninstalling gdown-4.6.6:\n",
            "      Successfully uninstalled gdown-4.6.6\n",
            "Successfully installed gdown-4.7.1\n",
            "Downloading...\n",
            "From (uriginal): https://drive.google.com/uc?id=1mGxfX7NKoKxlpaQxvCZzq6niLpf3Ziaq\n",
            "From (redirected): https://drive.google.com/uc?id=1mGxfX7NKoKxlpaQxvCZzq6niLpf3Ziaq&confirm=t&uuid=a7fdad04-b327-49a8-b259-4bb577207992\n",
            "To: /content/VW_VOTARON_2020PLEB_Datos_completos.zip\n",
            "100% 42.0M/42.0M [00:00<00:00, 60.4MB/s]\n"
          ]
        }
      ]
    },
    {
      "cell_type": "code",
      "source": [
        "!unzip \"VW_VOTARON_2020PLEB_Datos_completos.zip\""
      ],
      "metadata": {
        "colab": {
          "base_uri": "https://localhost:8080/"
        },
        "id": "7kQZDmJmAkyc",
        "outputId": "002f826e-5a63-47e7-8f82-f7e2d5cc6bf9"
      },
      "execution_count": null,
      "outputs": [
        {
          "output_type": "stream",
          "name": "stdout",
          "text": [
            "Archive:  VW_VOTARON_2020PLEB_Datos_completos.zip\n",
            "  inflating: VW_VOTARON_2020PLEB_Datos completos.csv  \n"
          ]
        }
      ]
    },
    {
      "cell_type": "code",
      "source": [
        "import pandas as pd\n",
        "import numpy as np"
      ],
      "metadata": {
        "id": "aoNEJ0DJAnWw"
      },
      "execution_count": null,
      "outputs": []
    },
    {
      "cell_type": "code",
      "source": [
        "df = pd.read_csv('VW_VOTARON_2020PLEB_Datos completos.csv', sep=';')"
      ],
      "metadata": {
        "id": "CGop1xFWAp7X"
      },
      "execution_count": null,
      "outputs": []
    },
    {
      "cell_type": "code",
      "source": [
        "work_df = df.copy(deep=True)\n",
        "work_df['index'] = np.arange(1, df.shape[0] + 1)\n",
        "work_df"
      ],
      "metadata": {
        "colab": {
          "base_uri": "https://localhost:8080/",
          "height": 808
        },
        "id": "_1FUo9TXA4B7",
        "outputId": "fc1e57d7-d8f6-4a74-c4fc-1d0a4d19a43a"
      },
      "execution_count": null,
      "outputs": [
        {
          "output_type": "execute_result",
          "data": {
            "text/plain": [
              "          Cedula Circunscripcion      Comuna  DV  Edad Nacionalidad  \\\n",
              "0              0       Coyhaique   Coyhaique   0    22      chilena   \n",
              "1              0       El Puerto  Valparaiso   0    89      chilena   \n",
              "2              0         Iquique     Iquique   0    99      chilena   \n",
              "3              0   Rio Tranquilo  Rio Ibañez   0    22      chilena   \n",
              "4              0       El Puerto  Valparaiso   0    95      chilena   \n",
              "...          ...             ...         ...  ..   ...          ...   \n",
              "14855714       0         Quilpue     Quilpue   0    21      chilena   \n",
              "14855715       0         Quilpue     Quilpue   0    21      chilena   \n",
              "14855716       0         Quilpue     Quilpue   0    21      chilena   \n",
              "14855717       0         Quilpue     Quilpue   0    21      chilena   \n",
              "14855718       0         Quilpue     Quilpue   0    21      chilena   \n",
              "\n",
              "         Pais Domicilio Pais Nacimiento  \\\n",
              "0                 Chile           Chile   \n",
              "1                 Chile           Chile   \n",
              "2                 Chile           Chile   \n",
              "3                 Chile           Chile   \n",
              "4                 Chile           Chile   \n",
              "...                 ...             ...   \n",
              "14855714          Chile           Chile   \n",
              "14855715          Chile           Chile   \n",
              "14855716          Chile           Chile   \n",
              "14855717          Chile           Chile   \n",
              "14855718          Chile           Chile   \n",
              "\n",
              "                                             Partido        Provincia  \\\n",
              "0         [130] FEDERACION REGIONALISTA VERDE SOCIAL        Coyhaique   \n",
              "1                                        SIN PARTIDO       Valparaiso   \n",
              "2                                        SIN PARTIDO          Iquique   \n",
              "3                                        SIN PARTIDO  General Carrera   \n",
              "4                                        SIN PARTIDO       Valparaiso   \n",
              "...                                              ...              ...   \n",
              "14855714                                 SIN PARTIDO      Marga Marga   \n",
              "14855715                                 SIN PARTIDO      Marga Marga   \n",
              "14855716                                 SIN PARTIDO      Marga Marga   \n",
              "14855717                                 SIN PARTIDO      Marga Marga   \n",
              "14855718                                 SIN PARTIDO      Marga Marga   \n",
              "\n",
              "         Rango Edad                                        Region       Sexo  \\\n",
              "0             20-24  De Aysen Del General Carlos Ibañez Del Campo   femenino   \n",
              "1            80 o +                                 De Valparaiso   femenino   \n",
              "2            80 o +                                   De Tarapaca  masculino   \n",
              "3             20-24  De Aysen Del General Carlos Ibañez Del Campo  masculino   \n",
              "4            80 o +                                 De Valparaiso  masculino   \n",
              "...             ...                                           ...        ...   \n",
              "14855714      20-24                                 De Valparaiso  masculino   \n",
              "14855715      20-24                                 De Valparaiso  masculino   \n",
              "14855716      20-24                                 De Valparaiso  masculino   \n",
              "14855717      20-24                                 De Valparaiso  masculino   \n",
              "14855718      20-24                                 De Valparaiso  masculino   \n",
              "\n",
              "            Sufragio VotoExterior  Número de registros  Votaron     index  \n",
              "0            sufragó     Nacional                    1      1.0         1  \n",
              "1         no sufragó     Nacional                    1      NaN         2  \n",
              "2         no sufragó     Nacional                    1      NaN         3  \n",
              "3            sufragó     Nacional                    1      1.0         4  \n",
              "4         no sufragó     Nacional                    1      NaN         5  \n",
              "...              ...          ...                  ...      ...       ...  \n",
              "14855714     sufragó     Nacional                    1      1.0  14855715  \n",
              "14855715     sufragó     Nacional                    1      1.0  14855716  \n",
              "14855716     sufragó     Nacional                    1      1.0  14855717  \n",
              "14855717     sufragó     Nacional                    1      1.0  14855718  \n",
              "14855718     sufragó     Nacional                    1      1.0  14855719  \n",
              "\n",
              "[14855719 rows x 18 columns]"
            ],
            "text/html": [
              "\n",
              "  <div id=\"df-d328139c-27c9-448f-8bae-ac7175aa7934\" class=\"colab-df-container\">\n",
              "    <div>\n",
              "<style scoped>\n",
              "    .dataframe tbody tr th:only-of-type {\n",
              "        vertical-align: middle;\n",
              "    }\n",
              "\n",
              "    .dataframe tbody tr th {\n",
              "        vertical-align: top;\n",
              "    }\n",
              "\n",
              "    .dataframe thead th {\n",
              "        text-align: right;\n",
              "    }\n",
              "</style>\n",
              "<table border=\"1\" class=\"dataframe\">\n",
              "  <thead>\n",
              "    <tr style=\"text-align: right;\">\n",
              "      <th></th>\n",
              "      <th>Cedula</th>\n",
              "      <th>Circunscripcion</th>\n",
              "      <th>Comuna</th>\n",
              "      <th>DV</th>\n",
              "      <th>Edad</th>\n",
              "      <th>Nacionalidad</th>\n",
              "      <th>Pais Domicilio</th>\n",
              "      <th>Pais Nacimiento</th>\n",
              "      <th>Partido</th>\n",
              "      <th>Provincia</th>\n",
              "      <th>Rango Edad</th>\n",
              "      <th>Region</th>\n",
              "      <th>Sexo</th>\n",
              "      <th>Sufragio</th>\n",
              "      <th>VotoExterior</th>\n",
              "      <th>Número de registros</th>\n",
              "      <th>Votaron</th>\n",
              "      <th>index</th>\n",
              "    </tr>\n",
              "  </thead>\n",
              "  <tbody>\n",
              "    <tr>\n",
              "      <th>0</th>\n",
              "      <td>0</td>\n",
              "      <td>Coyhaique</td>\n",
              "      <td>Coyhaique</td>\n",
              "      <td>0</td>\n",
              "      <td>22</td>\n",
              "      <td>chilena</td>\n",
              "      <td>Chile</td>\n",
              "      <td>Chile</td>\n",
              "      <td>[130] FEDERACION REGIONALISTA VERDE SOCIAL</td>\n",
              "      <td>Coyhaique</td>\n",
              "      <td>20-24</td>\n",
              "      <td>De Aysen Del General Carlos Ibañez Del Campo</td>\n",
              "      <td>femenino</td>\n",
              "      <td>sufragó</td>\n",
              "      <td>Nacional</td>\n",
              "      <td>1</td>\n",
              "      <td>1.0</td>\n",
              "      <td>1</td>\n",
              "    </tr>\n",
              "    <tr>\n",
              "      <th>1</th>\n",
              "      <td>0</td>\n",
              "      <td>El Puerto</td>\n",
              "      <td>Valparaiso</td>\n",
              "      <td>0</td>\n",
              "      <td>89</td>\n",
              "      <td>chilena</td>\n",
              "      <td>Chile</td>\n",
              "      <td>Chile</td>\n",
              "      <td>SIN PARTIDO</td>\n",
              "      <td>Valparaiso</td>\n",
              "      <td>80 o +</td>\n",
              "      <td>De Valparaiso</td>\n",
              "      <td>femenino</td>\n",
              "      <td>no sufragó</td>\n",
              "      <td>Nacional</td>\n",
              "      <td>1</td>\n",
              "      <td>NaN</td>\n",
              "      <td>2</td>\n",
              "    </tr>\n",
              "    <tr>\n",
              "      <th>2</th>\n",
              "      <td>0</td>\n",
              "      <td>Iquique</td>\n",
              "      <td>Iquique</td>\n",
              "      <td>0</td>\n",
              "      <td>99</td>\n",
              "      <td>chilena</td>\n",
              "      <td>Chile</td>\n",
              "      <td>Chile</td>\n",
              "      <td>SIN PARTIDO</td>\n",
              "      <td>Iquique</td>\n",
              "      <td>80 o +</td>\n",
              "      <td>De Tarapaca</td>\n",
              "      <td>masculino</td>\n",
              "      <td>no sufragó</td>\n",
              "      <td>Nacional</td>\n",
              "      <td>1</td>\n",
              "      <td>NaN</td>\n",
              "      <td>3</td>\n",
              "    </tr>\n",
              "    <tr>\n",
              "      <th>3</th>\n",
              "      <td>0</td>\n",
              "      <td>Rio Tranquilo</td>\n",
              "      <td>Rio Ibañez</td>\n",
              "      <td>0</td>\n",
              "      <td>22</td>\n",
              "      <td>chilena</td>\n",
              "      <td>Chile</td>\n",
              "      <td>Chile</td>\n",
              "      <td>SIN PARTIDO</td>\n",
              "      <td>General Carrera</td>\n",
              "      <td>20-24</td>\n",
              "      <td>De Aysen Del General Carlos Ibañez Del Campo</td>\n",
              "      <td>masculino</td>\n",
              "      <td>sufragó</td>\n",
              "      <td>Nacional</td>\n",
              "      <td>1</td>\n",
              "      <td>1.0</td>\n",
              "      <td>4</td>\n",
              "    </tr>\n",
              "    <tr>\n",
              "      <th>4</th>\n",
              "      <td>0</td>\n",
              "      <td>El Puerto</td>\n",
              "      <td>Valparaiso</td>\n",
              "      <td>0</td>\n",
              "      <td>95</td>\n",
              "      <td>chilena</td>\n",
              "      <td>Chile</td>\n",
              "      <td>Chile</td>\n",
              "      <td>SIN PARTIDO</td>\n",
              "      <td>Valparaiso</td>\n",
              "      <td>80 o +</td>\n",
              "      <td>De Valparaiso</td>\n",
              "      <td>masculino</td>\n",
              "      <td>no sufragó</td>\n",
              "      <td>Nacional</td>\n",
              "      <td>1</td>\n",
              "      <td>NaN</td>\n",
              "      <td>5</td>\n",
              "    </tr>\n",
              "    <tr>\n",
              "      <th>...</th>\n",
              "      <td>...</td>\n",
              "      <td>...</td>\n",
              "      <td>...</td>\n",
              "      <td>...</td>\n",
              "      <td>...</td>\n",
              "      <td>...</td>\n",
              "      <td>...</td>\n",
              "      <td>...</td>\n",
              "      <td>...</td>\n",
              "      <td>...</td>\n",
              "      <td>...</td>\n",
              "      <td>...</td>\n",
              "      <td>...</td>\n",
              "      <td>...</td>\n",
              "      <td>...</td>\n",
              "      <td>...</td>\n",
              "      <td>...</td>\n",
              "      <td>...</td>\n",
              "    </tr>\n",
              "    <tr>\n",
              "      <th>14855714</th>\n",
              "      <td>0</td>\n",
              "      <td>Quilpue</td>\n",
              "      <td>Quilpue</td>\n",
              "      <td>0</td>\n",
              "      <td>21</td>\n",
              "      <td>chilena</td>\n",
              "      <td>Chile</td>\n",
              "      <td>Chile</td>\n",
              "      <td>SIN PARTIDO</td>\n",
              "      <td>Marga Marga</td>\n",
              "      <td>20-24</td>\n",
              "      <td>De Valparaiso</td>\n",
              "      <td>masculino</td>\n",
              "      <td>sufragó</td>\n",
              "      <td>Nacional</td>\n",
              "      <td>1</td>\n",
              "      <td>1.0</td>\n",
              "      <td>14855715</td>\n",
              "    </tr>\n",
              "    <tr>\n",
              "      <th>14855715</th>\n",
              "      <td>0</td>\n",
              "      <td>Quilpue</td>\n",
              "      <td>Quilpue</td>\n",
              "      <td>0</td>\n",
              "      <td>21</td>\n",
              "      <td>chilena</td>\n",
              "      <td>Chile</td>\n",
              "      <td>Chile</td>\n",
              "      <td>SIN PARTIDO</td>\n",
              "      <td>Marga Marga</td>\n",
              "      <td>20-24</td>\n",
              "      <td>De Valparaiso</td>\n",
              "      <td>masculino</td>\n",
              "      <td>sufragó</td>\n",
              "      <td>Nacional</td>\n",
              "      <td>1</td>\n",
              "      <td>1.0</td>\n",
              "      <td>14855716</td>\n",
              "    </tr>\n",
              "    <tr>\n",
              "      <th>14855716</th>\n",
              "      <td>0</td>\n",
              "      <td>Quilpue</td>\n",
              "      <td>Quilpue</td>\n",
              "      <td>0</td>\n",
              "      <td>21</td>\n",
              "      <td>chilena</td>\n",
              "      <td>Chile</td>\n",
              "      <td>Chile</td>\n",
              "      <td>SIN PARTIDO</td>\n",
              "      <td>Marga Marga</td>\n",
              "      <td>20-24</td>\n",
              "      <td>De Valparaiso</td>\n",
              "      <td>masculino</td>\n",
              "      <td>sufragó</td>\n",
              "      <td>Nacional</td>\n",
              "      <td>1</td>\n",
              "      <td>1.0</td>\n",
              "      <td>14855717</td>\n",
              "    </tr>\n",
              "    <tr>\n",
              "      <th>14855717</th>\n",
              "      <td>0</td>\n",
              "      <td>Quilpue</td>\n",
              "      <td>Quilpue</td>\n",
              "      <td>0</td>\n",
              "      <td>21</td>\n",
              "      <td>chilena</td>\n",
              "      <td>Chile</td>\n",
              "      <td>Chile</td>\n",
              "      <td>SIN PARTIDO</td>\n",
              "      <td>Marga Marga</td>\n",
              "      <td>20-24</td>\n",
              "      <td>De Valparaiso</td>\n",
              "      <td>masculino</td>\n",
              "      <td>sufragó</td>\n",
              "      <td>Nacional</td>\n",
              "      <td>1</td>\n",
              "      <td>1.0</td>\n",
              "      <td>14855718</td>\n",
              "    </tr>\n",
              "    <tr>\n",
              "      <th>14855718</th>\n",
              "      <td>0</td>\n",
              "      <td>Quilpue</td>\n",
              "      <td>Quilpue</td>\n",
              "      <td>0</td>\n",
              "      <td>21</td>\n",
              "      <td>chilena</td>\n",
              "      <td>Chile</td>\n",
              "      <td>Chile</td>\n",
              "      <td>SIN PARTIDO</td>\n",
              "      <td>Marga Marga</td>\n",
              "      <td>20-24</td>\n",
              "      <td>De Valparaiso</td>\n",
              "      <td>masculino</td>\n",
              "      <td>sufragó</td>\n",
              "      <td>Nacional</td>\n",
              "      <td>1</td>\n",
              "      <td>1.0</td>\n",
              "      <td>14855719</td>\n",
              "    </tr>\n",
              "  </tbody>\n",
              "</table>\n",
              "<p>14855719 rows × 18 columns</p>\n",
              "</div>\n",
              "    <div class=\"colab-df-buttons\">\n",
              "\n",
              "  <div class=\"colab-df-container\">\n",
              "    <button class=\"colab-df-convert\" onclick=\"convertToInteractive('df-d328139c-27c9-448f-8bae-ac7175aa7934')\"\n",
              "            title=\"Convert this dataframe to an interactive table.\"\n",
              "            style=\"display:none;\">\n",
              "\n",
              "  <svg xmlns=\"http://www.w3.org/2000/svg\" height=\"24px\" viewBox=\"0 -960 960 960\">\n",
              "    <path d=\"M120-120v-720h720v720H120Zm60-500h600v-160H180v160Zm220 220h160v-160H400v160Zm0 220h160v-160H400v160ZM180-400h160v-160H180v160Zm440 0h160v-160H620v160ZM180-180h160v-160H180v160Zm440 0h160v-160H620v160Z\"/>\n",
              "  </svg>\n",
              "    </button>\n",
              "\n",
              "  <style>\n",
              "    .colab-df-container {\n",
              "      display:flex;\n",
              "      gap: 12px;\n",
              "    }\n",
              "\n",
              "    .colab-df-convert {\n",
              "      background-color: #E8F0FE;\n",
              "      border: none;\n",
              "      border-radius: 50%;\n",
              "      cursor: pointer;\n",
              "      display: none;\n",
              "      fill: #1967D2;\n",
              "      height: 32px;\n",
              "      padding: 0 0 0 0;\n",
              "      width: 32px;\n",
              "    }\n",
              "\n",
              "    .colab-df-convert:hover {\n",
              "      background-color: #E2EBFA;\n",
              "      box-shadow: 0px 1px 2px rgba(60, 64, 67, 0.3), 0px 1px 3px 1px rgba(60, 64, 67, 0.15);\n",
              "      fill: #174EA6;\n",
              "    }\n",
              "\n",
              "    .colab-df-buttons div {\n",
              "      margin-bottom: 4px;\n",
              "    }\n",
              "\n",
              "    [theme=dark] .colab-df-convert {\n",
              "      background-color: #3B4455;\n",
              "      fill: #D2E3FC;\n",
              "    }\n",
              "\n",
              "    [theme=dark] .colab-df-convert:hover {\n",
              "      background-color: #434B5C;\n",
              "      box-shadow: 0px 1px 3px 1px rgba(0, 0, 0, 0.15);\n",
              "      filter: drop-shadow(0px 1px 2px rgba(0, 0, 0, 0.3));\n",
              "      fill: #FFFFFF;\n",
              "    }\n",
              "  </style>\n",
              "\n",
              "    <script>\n",
              "      const buttonEl =\n",
              "        document.querySelector('#df-d328139c-27c9-448f-8bae-ac7175aa7934 button.colab-df-convert');\n",
              "      buttonEl.style.display =\n",
              "        google.colab.kernel.accessAllowed ? 'block' : 'none';\n",
              "\n",
              "      async function convertToInteractive(key) {\n",
              "        const element = document.querySelector('#df-d328139c-27c9-448f-8bae-ac7175aa7934');\n",
              "        const dataTable =\n",
              "          await google.colab.kernel.invokeFunction('convertToInteractive',\n",
              "                                                    [key], {});\n",
              "        if (!dataTable) return;\n",
              "\n",
              "        const docLinkHtml = 'Like what you see? Visit the ' +\n",
              "          '<a target=\"_blank\" href=https://colab.research.google.com/notebooks/data_table.ipynb>data table notebook</a>'\n",
              "          + ' to learn more about interactive tables.';\n",
              "        element.innerHTML = '';\n",
              "        dataTable['output_type'] = 'display_data';\n",
              "        await google.colab.output.renderOutput(dataTable, element);\n",
              "        const docLink = document.createElement('div');\n",
              "        docLink.innerHTML = docLinkHtml;\n",
              "        element.appendChild(docLink);\n",
              "      }\n",
              "    </script>\n",
              "  </div>\n",
              "\n",
              "\n",
              "<div id=\"df-0f610b5c-cc8f-4433-af34-0b0985cf5bd4\">\n",
              "  <button class=\"colab-df-quickchart\" onclick=\"quickchart('df-0f610b5c-cc8f-4433-af34-0b0985cf5bd4')\"\n",
              "            title=\"Suggest charts\"\n",
              "            style=\"display:none;\">\n",
              "\n",
              "<svg xmlns=\"http://www.w3.org/2000/svg\" height=\"24px\"viewBox=\"0 0 24 24\"\n",
              "     width=\"24px\">\n",
              "    <g>\n",
              "        <path d=\"M19 3H5c-1.1 0-2 .9-2 2v14c0 1.1.9 2 2 2h14c1.1 0 2-.9 2-2V5c0-1.1-.9-2-2-2zM9 17H7v-7h2v7zm4 0h-2V7h2v10zm4 0h-2v-4h2v4z\"/>\n",
              "    </g>\n",
              "</svg>\n",
              "  </button>\n",
              "\n",
              "<style>\n",
              "  .colab-df-quickchart {\n",
              "      --bg-color: #E8F0FE;\n",
              "      --fill-color: #1967D2;\n",
              "      --hover-bg-color: #E2EBFA;\n",
              "      --hover-fill-color: #174EA6;\n",
              "      --disabled-fill-color: #AAA;\n",
              "      --disabled-bg-color: #DDD;\n",
              "  }\n",
              "\n",
              "  [theme=dark] .colab-df-quickchart {\n",
              "      --bg-color: #3B4455;\n",
              "      --fill-color: #D2E3FC;\n",
              "      --hover-bg-color: #434B5C;\n",
              "      --hover-fill-color: #FFFFFF;\n",
              "      --disabled-bg-color: #3B4455;\n",
              "      --disabled-fill-color: #666;\n",
              "  }\n",
              "\n",
              "  .colab-df-quickchart {\n",
              "    background-color: var(--bg-color);\n",
              "    border: none;\n",
              "    border-radius: 50%;\n",
              "    cursor: pointer;\n",
              "    display: none;\n",
              "    fill: var(--fill-color);\n",
              "    height: 32px;\n",
              "    padding: 0;\n",
              "    width: 32px;\n",
              "  }\n",
              "\n",
              "  .colab-df-quickchart:hover {\n",
              "    background-color: var(--hover-bg-color);\n",
              "    box-shadow: 0 1px 2px rgba(60, 64, 67, 0.3), 0 1px 3px 1px rgba(60, 64, 67, 0.15);\n",
              "    fill: var(--button-hover-fill-color);\n",
              "  }\n",
              "\n",
              "  .colab-df-quickchart-complete:disabled,\n",
              "  .colab-df-quickchart-complete:disabled:hover {\n",
              "    background-color: var(--disabled-bg-color);\n",
              "    fill: var(--disabled-fill-color);\n",
              "    box-shadow: none;\n",
              "  }\n",
              "\n",
              "  .colab-df-spinner {\n",
              "    border: 2px solid var(--fill-color);\n",
              "    border-color: transparent;\n",
              "    border-bottom-color: var(--fill-color);\n",
              "    animation:\n",
              "      spin 1s steps(1) infinite;\n",
              "  }\n",
              "\n",
              "  @keyframes spin {\n",
              "    0% {\n",
              "      border-color: transparent;\n",
              "      border-bottom-color: var(--fill-color);\n",
              "      border-left-color: var(--fill-color);\n",
              "    }\n",
              "    20% {\n",
              "      border-color: transparent;\n",
              "      border-left-color: var(--fill-color);\n",
              "      border-top-color: var(--fill-color);\n",
              "    }\n",
              "    30% {\n",
              "      border-color: transparent;\n",
              "      border-left-color: var(--fill-color);\n",
              "      border-top-color: var(--fill-color);\n",
              "      border-right-color: var(--fill-color);\n",
              "    }\n",
              "    40% {\n",
              "      border-color: transparent;\n",
              "      border-right-color: var(--fill-color);\n",
              "      border-top-color: var(--fill-color);\n",
              "    }\n",
              "    60% {\n",
              "      border-color: transparent;\n",
              "      border-right-color: var(--fill-color);\n",
              "    }\n",
              "    80% {\n",
              "      border-color: transparent;\n",
              "      border-right-color: var(--fill-color);\n",
              "      border-bottom-color: var(--fill-color);\n",
              "    }\n",
              "    90% {\n",
              "      border-color: transparent;\n",
              "      border-bottom-color: var(--fill-color);\n",
              "    }\n",
              "  }\n",
              "</style>\n",
              "\n",
              "  <script>\n",
              "    async function quickchart(key) {\n",
              "      const quickchartButtonEl =\n",
              "        document.querySelector('#' + key + ' button');\n",
              "      quickchartButtonEl.disabled = true;  // To prevent multiple clicks.\n",
              "      quickchartButtonEl.classList.add('colab-df-spinner');\n",
              "      try {\n",
              "        const charts = await google.colab.kernel.invokeFunction(\n",
              "            'suggestCharts', [key], {});\n",
              "      } catch (error) {\n",
              "        console.error('Error during call to suggestCharts:', error);\n",
              "      }\n",
              "      quickchartButtonEl.classList.remove('colab-df-spinner');\n",
              "      quickchartButtonEl.classList.add('colab-df-quickchart-complete');\n",
              "    }\n",
              "    (() => {\n",
              "      let quickchartButtonEl =\n",
              "        document.querySelector('#df-0f610b5c-cc8f-4433-af34-0b0985cf5bd4 button');\n",
              "      quickchartButtonEl.style.display =\n",
              "        google.colab.kernel.accessAllowed ? 'block' : 'none';\n",
              "    })();\n",
              "  </script>\n",
              "</div>\n",
              "    </div>\n",
              "  </div>\n"
            ]
          },
          "metadata": {},
          "execution_count": 5
        }
      ]
    },
    {
      "cell_type": "markdown",
      "source": [
        "##Pregunta 1\n",
        "**Para este control trabajaremos con una base de datos real (anonimizada) del SERVEL acerca del plebiscito, he indica si cada ciudadano voto o no en el plebiscito del 2020.**"
      ],
      "metadata": {
        "id": "nvX7ojdvUm_n"
      }
    },
    {
      "cell_type": "markdown",
      "source": [
        "###a)\n",
        "Reemplace en la columna 'Votaron' los NaN por 0."
      ],
      "metadata": {
        "id": "jDQSGf6eNC8L"
      }
    },
    {
      "cell_type": "code",
      "source": [
        "print(work_df['Votaron'].isnull().sum())\n",
        "work_df['Votaron'] = work_df['Votaron'].fillna(0)\n",
        "print(work_df['Votaron'].isnull().sum())"
      ],
      "metadata": {
        "id": "4a-bsuqRcTaN",
        "colab": {
          "base_uri": "https://localhost:8080/"
        },
        "outputId": "30abd710-381c-46c4-d4e5-346b44575a2a"
      },
      "execution_count": null,
      "outputs": [
        {
          "output_type": "stream",
          "name": "stdout",
          "text": [
            "7313660\n",
            "0\n"
          ]
        }
      ]
    },
    {
      "cell_type": "markdown",
      "source": [
        "###b)\n",
        "Calcule el tamaño del padrón electoral y de los votantes por primera vez."
      ],
      "metadata": {
        "id": "acFzjOCIBzsa"
      }
    },
    {
      "cell_type": "code",
      "source": [
        "print(f\"El padron tiene un tamaño de {work_df.shape[0]} personas\")\n",
        "print(f\"De los cuales {work_df[work_df['Edad'] <= 20].shape[0]} personas son votantes por primera vez\")"
      ],
      "metadata": {
        "id": "4JEIZZUgcTvT",
        "colab": {
          "base_uri": "https://localhost:8080/"
        },
        "outputId": "b11cffcf-d585-4708-832e-0b4321c0867b"
      },
      "execution_count": null,
      "outputs": [
        {
          "output_type": "stream",
          "name": "stdout",
          "text": [
            "El padron tiene un tamaño de 14855719 personas\n",
            "De los cuales 743696 personas son votantes por primera vez\n"
          ]
        }
      ]
    },
    {
      "cell_type": "markdown",
      "source": [
        "###c)\n",
        "¿Cuántas personas votaron y no votaron por rango de edad?\n"
      ],
      "metadata": {
        "id": "_Fl7cmNEBBug"
      }
    },
    {
      "cell_type": "code",
      "source": [
        "cuenta = 0\n",
        "rangos_edad = work_df['Rango Edad'].unique()\n",
        "rangos_edad.sort(axis=0)\n",
        "for i in rangos_edad:\n",
        "  rango_de_edad = work_df[work_df['Rango Edad'] == i]\n",
        "  print(f\"El rango de edad {i} tiene:\\n\")\n",
        "  print(f\"{rango_de_edad[rango_de_edad['Votaron'] == 1].shape[0]} votantes\")\n",
        "  print(f\"{rango_de_edad[rango_de_edad['Votaron'] == 0].shape[0]} no votantes\\n\")\n",
        "  cuenta += rango_de_edad[rango_de_edad['Votaron'] == 1].shape[0] + rango_de_edad[rango_de_edad['Votaron'] == 0].shape[0]\n",
        "print(cuenta)"
      ],
      "metadata": {
        "id": "C1tiOBye5-04",
        "colab": {
          "base_uri": "https://localhost:8080/"
        },
        "outputId": "07d4e70b-039e-4723-d427-ae2e6aa536e8"
      },
      "execution_count": null,
      "outputs": [
        {
          "output_type": "stream",
          "name": "stdout",
          "text": [
            "El rango de edad 18 a 19 tiene:\n",
            "\n",
            "276790 votantes\n",
            "215856 no votantes\n",
            "\n",
            "El rango de edad 20-24 tiene:\n",
            "\n",
            "741284 votantes\n",
            "559645 no votantes\n",
            "\n",
            "El rango de edad 25-29 tiene:\n",
            "\n",
            "807167 votantes\n",
            "636213 no votantes\n",
            "\n",
            "El rango de edad 30-34 tiene:\n",
            "\n",
            "789293 votantes\n",
            "679407 no votantes\n",
            "\n",
            "El rango de edad 35-39 tiene:\n",
            "\n",
            "675788 votantes\n",
            "659480 no votantes\n",
            "\n",
            "El rango de edad 40-44 tiene:\n",
            "\n",
            "617406 votantes\n",
            "622689 no votantes\n",
            "\n",
            "El rango de edad 45-49 tiene:\n",
            "\n",
            "663863 votantes\n",
            "649640 no votantes\n",
            "\n",
            "El rango de edad 50-54 tiene:\n",
            "\n",
            "671790 votantes\n",
            "612176 no votantes\n",
            "\n",
            "El rango de edad 55-59 tiene:\n",
            "\n",
            "684419 votantes\n",
            "580939 no votantes\n",
            "\n",
            "El rango de edad 60-64 tiene:\n",
            "\n",
            "572248 votantes\n",
            "489272 no votantes\n",
            "\n",
            "El rango de edad 65-69 tiene:\n",
            "\n",
            "425266 votantes\n",
            "403576 no votantes\n",
            "\n",
            "El rango de edad 70-74 tiene:\n",
            "\n",
            "300992 votantes\n",
            "346931 no votantes\n",
            "\n",
            "El rango de edad 75-79 tiene:\n",
            "\n",
            "184985 votantes\n",
            "300216 no votantes\n",
            "\n",
            "El rango de edad 80 o + tiene:\n",
            "\n",
            "130768 votantes\n",
            "557620 no votantes\n",
            "\n",
            "14855719\n"
          ]
        }
      ]
    },
    {
      "cell_type": "markdown",
      "source": [
        "###d)\n",
        "¿Cuántas personas  por partido votaron vs los que no votaron? (incluya los SIN PARTIDO)"
      ],
      "metadata": {
        "id": "-GYRxO34EYRa"
      }
    },
    {
      "cell_type": "code",
      "source": [
        "cuenta = 0\n",
        "partidos = work_df['Partido'].unique()\n",
        "partidos.sort(axis=0)\n",
        "for i in partidos:\n",
        "  partido = work_df[work_df['Partido'] == i]\n",
        "  print(f\"El partido {i} tiene:\\n\")\n",
        "  print(f\"{partido[partido['Votaron'] == 1].shape[0]} votantes\")\n",
        "  print(f\"{partido[partido['Votaron'] == 0].shape[0]} no votantes\")\n",
        "  print(f\"Estos se traduce en un {round(100 * partido[partido['Votaron'] == 1].shape[0] / partido.shape[0], 2)}% de votantes en el partido\\n\")\n",
        "  cuenta += partido[partido['Votaron'] == 1].shape[0] + partido[partido['Votaron'] == 0].shape[0]\n",
        "print(cuenta)"
      ],
      "metadata": {
        "id": "JcIS_HdB6HPi",
        "colab": {
          "base_uri": "https://localhost:8080/"
        },
        "outputId": "2ac4d647-e229-4b7a-dbd6-55df2c15c4ae"
      },
      "execution_count": null,
      "outputs": [
        {
          "output_type": "stream",
          "name": "stdout",
          "text": [
            "El partido SIN PARTIDO tiene:\n",
            "\n",
            "6970350 votantes\n",
            "6995102 no votantes\n",
            "Estos se traduce en un 49.91% de votantes en el partido\n",
            "\n",
            "El partido [126] NUEVO TIEMPO tiene:\n",
            "\n",
            "1115 votantes\n",
            "551 no votantes\n",
            "Estos se traduce en un 66.93% de votantes en el partido\n",
            "\n",
            "El partido [130] FEDERACION REGIONALISTA VERDE SOCIAL tiene:\n",
            "\n",
            "7937 votantes\n",
            "5213 no votantes\n",
            "Estos se traduce en un 60.36% de votantes en el partido\n",
            "\n",
            "El partido [135] PARTIDO TRABAJADORES REVOLUCIONARIOS tiene:\n",
            "\n",
            "1826 votantes\n",
            "1256 no votantes\n",
            "Estos se traduce en un 59.25% de votantes en el partido\n",
            "\n",
            "El partido [137] PARTIDO LIBERAL DE CHILE tiene:\n",
            "\n",
            "6696 votantes\n",
            "3604 no votantes\n",
            "Estos se traduce en un 65.01% de votantes en el partido\n",
            "\n",
            "El partido [138] CIUDADANOS tiene:\n",
            "\n",
            "12374 votantes\n",
            "6870 no votantes\n",
            "Estos se traduce en un 64.3% de votantes en el partido\n",
            "\n",
            "El partido [139] PARTIDO PROGRESISTA DE CHILE tiene:\n",
            "\n",
            "37346 votantes\n",
            "23377 no votantes\n",
            "Estos se traduce en un 61.5% de votantes en el partido\n",
            "\n",
            "El partido [140] REGIONALISTA INDEPENDIENTE DEMOCRATA tiene:\n",
            "\n",
            "12227 votantes\n",
            "11107 no votantes\n",
            "Estos se traduce en un 52.4% de votantes en el partido\n",
            "\n",
            "El partido [142] ECOLOGISTA VERDE tiene:\n",
            "\n",
            "11168 votantes\n",
            "5760 no votantes\n",
            "Estos se traduce en un 65.97% de votantes en el partido\n",
            "\n",
            "El partido [143] COMUNES tiene:\n",
            "\n",
            "9827 votantes\n",
            "5091 no votantes\n",
            "Estos se traduce en un 65.87% de votantes en el partido\n",
            "\n",
            "El partido [144] IGUALDAD tiene:\n",
            "\n",
            "11147 votantes\n",
            "7533 no votantes\n",
            "Estos se traduce en un 59.67% de votantes en el partido\n",
            "\n",
            "El partido [147] PARTIDO UNION PATRIOTICA tiene:\n",
            "\n",
            "6131 votantes\n",
            "2893 no votantes\n",
            "Estos se traduce en un 67.94% de votantes en el partido\n",
            "\n",
            "El partido [148] PARTIDO NACIONAL CIUDADANO tiene:\n",
            "\n",
            "1179 votantes\n",
            "1313 no votantes\n",
            "Estos se traduce en un 47.31% de votantes en el partido\n",
            "\n",
            "El partido [149] CONVERGENCIA SOCIAL tiene:\n",
            "\n",
            "2881 votantes\n",
            "987 no votantes\n",
            "Estos se traduce en un 74.48% de votantes en el partido\n",
            "\n",
            "El partido [150] REPUBLICANO DE CHILE tiene:\n",
            "\n",
            "13459 votantes\n",
            "2821 no votantes\n",
            "Estos se traduce en un 82.67% de votantes en el partido\n",
            "\n",
            "El partido [152] FUERZA NACIONAL (EN FORMACION) tiene:\n",
            "\n",
            "70 votantes\n",
            "28 no votantes\n",
            "Estos se traduce en un 71.43% de votantes en el partido\n",
            "\n",
            "El partido [153] NUEVA CLASE MEDIA tiene:\n",
            "\n",
            "871 votantes\n",
            "842 no votantes\n",
            "Estos se traduce en un 50.85% de votantes en el partido\n",
            "\n",
            "El partido [160] POR LA REPRESENTACION CIUDADANA tiene:\n",
            "\n",
            "107 votantes\n",
            "11 no votantes\n",
            "Estos se traduce en un 90.68% de votantes en el partido\n",
            "\n",
            "El partido [162] PARTIDO CONSERVADOR CRISTIANO tiene:\n",
            "\n",
            "2143 votantes\n",
            "1302 no votantes\n",
            "Estos se traduce en un 62.21% de votantes en el partido\n",
            "\n",
            "El partido [168] FUERZA CULTURAL (EN FORMACION) tiene:\n",
            "\n",
            "107 votantes\n",
            "14 no votantes\n",
            "Estos se traduce en un 88.43% de votantes en el partido\n",
            "\n",
            "El partido [170] DEMOCRATA (EN FORMACION) tiene:\n",
            "\n",
            "70 votantes\n",
            "57 no votantes\n",
            "Estos se traduce en un 55.12% de votantes en el partido\n",
            "\n",
            "El partido [171] PARTIDO LIBERTARIO DE CHILE (EN FORMACION) tiene:\n",
            "\n",
            "97 votantes\n",
            "9 no votantes\n",
            "Estos se traduce en un 91.51% de votantes en el partido\n",
            "\n",
            "El partido [172] POR EL BUEN VIVIR DE CHILE (EN FORMACION) tiene:\n",
            "\n",
            "58 votantes\n",
            "60 no votantes\n",
            "Estos se traduce en un 49.15% de votantes en el partido\n",
            "\n",
            "El partido [173] UNIDOS EN LA FE tiene:\n",
            "\n",
            "104 votantes\n",
            "37 no votantes\n",
            "Estos se traduce en un 73.76% de votantes en el partido\n",
            "\n",
            "El partido [174] PARTIDO ALTERNATIVA FEMINISTA tiene:\n",
            "\n",
            "106 votantes\n",
            "1 no votantes\n",
            "Estos se traduce en un 99.07% de votantes en el partido\n",
            "\n",
            "El partido [175] PARTIDO UNIDOS POR CHILE tiene:\n",
            "\n",
            "65 votantes\n",
            "49 no votantes\n",
            "Estos se traduce en un 57.02% de votantes en el partido\n",
            "\n",
            "El partido [1] RENOVACION NACIONAL tiene:\n",
            "\n",
            "26975 votantes\n",
            "14442 no votantes\n",
            "Estos se traduce en un 65.13% de votantes en el partido\n",
            "\n",
            "El partido [2] PARTIDO DEMOCRATA CRISTIANO tiene:\n",
            "\n",
            "69219 votantes\n",
            "37009 no votantes\n",
            "Estos se traduce en un 65.16% de votantes en el partido\n",
            "\n",
            "El partido [37] EVOLUCION POLITICA tiene:\n",
            "\n",
            "13859 votantes\n",
            "8000 no votantes\n",
            "Estos se traduce en un 63.4% de votantes en el partido\n",
            "\n",
            "El partido [3] UNION DEMOCRATA INDEPENDIENTE tiene:\n",
            "\n",
            "56172 votantes\n",
            "43023 no votantes\n",
            "Estos se traduce en un 56.63% de votantes en el partido\n",
            "\n",
            "El partido [45] REVOLUCION DEMOCRATICA tiene:\n",
            "\n",
            "29764 votantes\n",
            "6993 no votantes\n",
            "Estos se traduce en un 80.98% de votantes en el partido\n",
            "\n",
            "El partido [4] POR LA DEMOCRACIA tiene:\n",
            "\n",
            "67960 votantes\n",
            "42231 no votantes\n",
            "Estos se traduce en un 61.67% de votantes en el partido\n",
            "\n",
            "El partido [5] SOCIALISTA DE CHILE tiene:\n",
            "\n",
            "79834 votantes\n",
            "41921 no votantes\n",
            "Estos se traduce en un 65.57% de votantes en el partido\n",
            "\n",
            "El partido [6] COMUNISTA DE CHILE tiene:\n",
            "\n",
            "57508 votantes\n",
            "25916 no votantes\n",
            "Estos se traduce en un 68.93% de votantes en el partido\n",
            "\n",
            "El partido [7] RADICAL DE CHILE tiene:\n",
            "\n",
            "18904 votantes\n",
            "11234 no votantes\n",
            "Estos se traduce en un 62.72% de votantes en el partido\n",
            "\n",
            "El partido [8] HUMANISTA tiene:\n",
            "\n",
            "12403 votantes\n",
            "7003 no votantes\n",
            "Estos se traduce en un 63.91% de votantes en el partido\n",
            "\n",
            "14855719\n"
          ]
        }
      ]
    },
    {
      "cell_type": "markdown",
      "source": [
        "###e)\n",
        "¿Cuantos chilenos del padrón nacieron en chile?"
      ],
      "metadata": {
        "id": "s6meu0wfHgwD"
      }
    },
    {
      "cell_type": "code",
      "source": [
        "print(f\"{work_df[work_df['Pais Nacimiento'] == 'Chile'].shape[0]} personas del padron nacieron en Chile\")\n",
        "print(f\"{work_df[work_df['Pais Nacimiento'] != 'Chile'].shape[0]} personas del padron nacieron fuera de Chile\")\n",
        "print(work_df[work_df['Pais Nacimiento'] == 'Chile'].shape[0] + work_df[work_df['Pais Nacimiento'] != 'Chile'].shape[0])"
      ],
      "metadata": {
        "id": "pPugx-276sfl",
        "colab": {
          "base_uri": "https://localhost:8080/"
        },
        "outputId": "46a5f4c3-ca10-4eea-b9ab-0f2d973f741c"
      },
      "execution_count": null,
      "outputs": [
        {
          "output_type": "stream",
          "name": "stdout",
          "text": [
            "14476890 personas del padron nacieron en Chile\n",
            "378829 personas del padron nacieron fuera de Chile\n",
            "14855719\n"
          ]
        }
      ]
    },
    {
      "cell_type": "markdown",
      "source": [
        "###f)\n",
        "¿Cuantas comunas y circunscripciones hay en Chile?"
      ],
      "metadata": {
        "id": "bzVjtryAA3b0"
      }
    },
    {
      "cell_type": "code",
      "source": [
        "print(f\"Existe {work_df[work_df['VotoExterior'] == 'Nacional']['Comuna'].unique().shape[0]} comunas en Chile\")\n",
        "print(f\"Existe {work_df[work_df['VotoExterior'] == 'Nacional']['Circunscripcion'].unique().shape[0]} circunscripciones en Chile\")"
      ],
      "metadata": {
        "id": "KInyGCuR--Vd",
        "colab": {
          "base_uri": "https://localhost:8080/"
        },
        "outputId": "a4245c60-6907-468a-8ede-8f361022a3ce"
      },
      "execution_count": null,
      "outputs": [
        {
          "output_type": "stream",
          "name": "stdout",
          "text": [
            "Existe 346 comunas en Chile\n",
            "Existe 681 circunscripciones en Chile\n"
          ]
        }
      ]
    },
    {
      "cell_type": "markdown",
      "source": [
        "###g)\n",
        "Entregue un gráfico (matplotlib.pyplot) que indique el número de personas que votaron y los que no por percentil de edad"
      ],
      "metadata": {
        "id": "_jvy3iaD-sqc"
      }
    },
    {
      "cell_type": "code",
      "source": [
        "import matplotlib.pyplot as plt\n",
        "\n",
        "graph_df = work_df[['index','Edad', 'Votaron']].copy(deep=True)\n",
        "graph_df = graph_df.groupby(by=['Edad', 'Votaron']).count().reset_index().sort_values(by='Edad')\n",
        "graph_df['Percentil'] = graph_df['Edad'].rank(pct=True)\n",
        "\n",
        "scatter_x1 = graph_df[graph_df['Votaron'] == 0]['Percentil']\n",
        "scatter_x2 = graph_df[graph_df['Votaron'] == 1]['Percentil']\n",
        "scatter_y1 = graph_df[graph_df['Votaron'] == 0]['index']\n",
        "scatter_y2 = graph_df[graph_df['Votaron'] == 1]['index']\n",
        "group = graph_df['Votaron']\n",
        "\n",
        "fig, ax = plt.subplots()\n",
        "ax.scatter(scatter_x1, scatter_y1, color = 'C1', label = 'No votaron', s = 1)\n",
        "ax.scatter(scatter_x2, scatter_y2, color = 'C2', label = 'Votaron', s = 1)\n",
        "ax.legend()\n",
        "plt.show()"
      ],
      "metadata": {
        "id": "PW2NEn8k_IZr",
        "colab": {
          "base_uri": "https://localhost:8080/",
          "height": 432
        },
        "outputId": "9d969d83-8b11-408c-9bf6-124b174c9ffb"
      },
      "execution_count": null,
      "outputs": [
        {
          "output_type": "display_data",
          "data": {
            "text/plain": [
              "<Figure size 640x480 with 1 Axes>"
            ],
            "image/png": "[encoded data removed]"
          },
          "metadata": {}
        }
      ]
    },
    {
      "cell_type": "code",
      "source": [
        "graph_df"
      ],
      "metadata": {
        "colab": {
          "base_uri": "https://localhost:8080/",
          "height": 424
        },
        "id": "4_hQnKo1mDJy",
        "outputId": "11206d38-47b5-4be3-d006-4c6519a2b998"
      },
      "execution_count": null,
      "outputs": [
        {
          "output_type": "execute_result",
          "data": {
            "text/plain": [
              "     Edad  Votaron   index  Percentil\n",
              "0      18      0.0  106117   0.006356\n",
              "1      18      1.0  135618   0.006356\n",
              "2      19      0.0  109739   0.014831\n",
              "3      19      1.0  141172   0.014831\n",
              "4      20      0.0  109185   0.023305\n",
              "..    ...      ...     ...        ...\n",
              "230   135      0.0     811   0.980932\n",
              "232   136      0.0     467   0.987288\n",
              "234   137      1.0       2   0.993644\n",
              "233   137      0.0     269   0.993644\n",
              "235   138      0.0       1   1.000000\n",
              "\n",
              "[236 rows x 4 columns]"
            ],
            "text/html": [
              "\n",
              "  <div id=\"df-925cd80f-0f7d-4390-8248-51dda42cb901\" class=\"colab-df-container\">\n",
              "    <div>\n",
              "<style scoped>\n",
              "    .dataframe tbody tr th:only-of-type {\n",
              "        vertical-align: middle;\n",
              "    }\n",
              "\n",
              "    .dataframe tbody tr th {\n",
              "        vertical-align: top;\n",
              "    }\n",
              "\n",
              "    .dataframe thead th {\n",
              "        text-align: right;\n",
              "    }\n",
              "</style>\n",
              "<table border=\"1\" class=\"dataframe\">\n",
              "  <thead>\n",
              "    <tr style=\"text-align: right;\">\n",
              "      <th></th>\n",
              "      <th>Edad</th>\n",
              "      <th>Votaron</th>\n",
              "      <th>index</th>\n",
              "      <th>Percentil</th>\n",
              "    </tr>\n",
              "  </thead>\n",
              "  <tbody>\n",
              "    <tr>\n",
              "      <th>0</th>\n",
              "      <td>18</td>\n",
              "      <td>0.0</td>\n",
              "      <td>106117</td>\n",
              "      <td>0.006356</td>\n",
              "    </tr>\n",
              "    <tr>\n",
              "      <th>1</th>\n",
              "      <td>18</td>\n",
              "      <td>1.0</td>\n",
              "      <td>135618</td>\n",
              "      <td>0.006356</td>\n",
              "    </tr>\n",
              "    <tr>\n",
              "      <th>2</th>\n",
              "      <td>19</td>\n",
              "      <td>0.0</td>\n",
              "      <td>109739</td>\n",
              "      <td>0.014831</td>\n",
              "    </tr>\n",
              "    <tr>\n",
              "      <th>3</th>\n",
              "      <td>19</td>\n",
              "      <td>1.0</td>\n",
              "      <td>141172</td>\n",
              "      <td>0.014831</td>\n",
              "    </tr>\n",
              "    <tr>\n",
              "      <th>4</th>\n",
              "      <td>20</td>\n",
              "      <td>0.0</td>\n",
              "      <td>109185</td>\n",
              "      <td>0.023305</td>\n",
              "    </tr>\n",
              "    <tr>\n",
              "      <th>...</th>\n",
              "      <td>...</td>\n",
              "      <td>...</td>\n",
              "      <td>...</td>\n",
              "      <td>...</td>\n",
              "    </tr>\n",
              "    <tr>\n",
              "      <th>230</th>\n",
              "      <td>135</td>\n",
              "      <td>0.0</td>\n",
              "      <td>811</td>\n",
              "      <td>0.980932</td>\n",
              "    </tr>\n",
              "    <tr>\n",
              "      <th>232</th>\n",
              "      <td>136</td>\n",
              "      <td>0.0</td>\n",
              "      <td>467</td>\n",
              "      <td>0.987288</td>\n",
              "    </tr>\n",
              "    <tr>\n",
              "      <th>234</th>\n",
              "      <td>137</td>\n",
              "      <td>1.0</td>\n",
              "      <td>2</td>\n",
              "      <td>0.993644</td>\n",
              "    </tr>\n",
              "    <tr>\n",
              "      <th>233</th>\n",
              "      <td>137</td>\n",
              "      <td>0.0</td>\n",
              "      <td>269</td>\n",
              "      <td>0.993644</td>\n",
              "    </tr>\n",
              "    <tr>\n",
              "      <th>235</th>\n",
              "      <td>138</td>\n",
              "      <td>0.0</td>\n",
              "      <td>1</td>\n",
              "      <td>1.000000</td>\n",
              "    </tr>\n",
              "  </tbody>\n",
              "</table>\n",
              "<p>236 rows × 4 columns</p>\n",
              "</div>\n",
              "    <div class=\"colab-df-buttons\">\n",
              "\n",
              "  <div class=\"colab-df-container\">\n",
              "    <button class=\"colab-df-convert\" onclick=\"convertToInteractive('df-925cd80f-0f7d-4390-8248-51dda42cb901')\"\n",
              "            title=\"Convert this dataframe to an interactive table.\"\n",
              "            style=\"display:none;\">\n",
              "\n",
              "  <svg xmlns=\"http://www.w3.org/2000/svg\" height=\"24px\" viewBox=\"0 -960 960 960\">\n",
              "    <path d=\"M120-120v-720h720v720H120Zm60-500h600v-160H180v160Zm220 220h160v-160H400v160Zm0 220h160v-160H400v160ZM180-400h160v-160H180v160Zm440 0h160v-160H620v160ZM180-180h160v-160H180v160Zm440 0h160v-160H620v160Z\"/>\n",
              "  </svg>\n",
              "    </button>\n",
              "\n",
              "  <style>\n",
              "    .colab-df-container {\n",
              "      display:flex;\n",
              "      gap: 12px;\n",
              "    }\n",
              "\n",
              "    .colab-df-convert {\n",
              "      background-color: #E8F0FE;\n",
              "      border: none;\n",
              "      border-radius: 50%;\n",
              "      cursor: pointer;\n",
              "      display: none;\n",
              "      fill: #1967D2;\n",
              "      height: 32px;\n",
              "      padding: 0 0 0 0;\n",
              "      width: 32px;\n",
              "    }\n",
              "\n",
              "    .colab-df-convert:hover {\n",
              "      background-color: #E2EBFA;\n",
              "      box-shadow: 0px 1px 2px rgba(60, 64, 67, 0.3), 0px 1px 3px 1px rgba(60, 64, 67, 0.15);\n",
              "      fill: #174EA6;\n",
              "    }\n",
              "\n",
              "    .colab-df-buttons div {\n",
              "      margin-bottom: 4px;\n",
              "    }\n",
              "\n",
              "    [theme=dark] .colab-df-convert {\n",
              "      background-color: #3B4455;\n",
              "      fill: #D2E3FC;\n",
              "    }\n",
              "\n",
              "    [theme=dark] .colab-df-convert:hover {\n",
              "      background-color: #434B5C;\n",
              "      box-shadow: 0px 1px 3px 1px rgba(0, 0, 0, 0.15);\n",
              "      filter: drop-shadow(0px 1px 2px rgba(0, 0, 0, 0.3));\n",
              "      fill: #FFFFFF;\n",
              "    }\n",
              "  </style>\n",
              "\n",
              "    <script>\n",
              "      const buttonEl =\n",
              "        document.querySelector('#df-925cd80f-0f7d-4390-8248-51dda42cb901 button.colab-df-convert');\n",
              "      buttonEl.style.display =\n",
              "        google.colab.kernel.accessAllowed ? 'block' : 'none';\n",
              "\n",
              "      async function convertToInteractive(key) {\n",
              "        const element = document.querySelector('#df-925cd80f-0f7d-4390-8248-51dda42cb901');\n",
              "        const dataTable =\n",
              "          await google.colab.kernel.invokeFunction('convertToInteractive',\n",
              "                                                    [key], {});\n",
              "        if (!dataTable) return;\n",
              "\n",
              "        const docLinkHtml = 'Like what you see? Visit the ' +\n",
              "          '<a target=\"_blank\" href=https://colab.research.google.com/notebooks/data_table.ipynb>data table notebook</a>'\n",
              "          + ' to learn more about interactive tables.';\n",
              "        element.innerHTML = '';\n",
              "        dataTable['output_type'] = 'display_data';\n",
              "        await google.colab.output.renderOutput(dataTable, element);\n",
              "        const docLink = document.createElement('div');\n",
              "        docLink.innerHTML = docLinkHtml;\n",
              "        element.appendChild(docLink);\n",
              "      }\n",
              "    </script>\n",
              "  </div>\n",
              "\n",
              "\n",
              "<div id=\"df-b38cf341-4b24-4868-9a47-b2256a1a9f4a\">\n",
              "  <button class=\"colab-df-quickchart\" onclick=\"quickchart('df-b38cf341-4b24-4868-9a47-b2256a1a9f4a')\"\n",
              "            title=\"Suggest charts\"\n",
              "            style=\"display:none;\">\n",
              "\n",
              "<svg xmlns=\"http://www.w3.org/2000/svg\" height=\"24px\"viewBox=\"0 0 24 24\"\n",
              "     width=\"24px\">\n",
              "    <g>\n",
              "        <path d=\"M19 3H5c-1.1 0-2 .9-2 2v14c0 1.1.9 2 2 2h14c1.1 0 2-.9 2-2V5c0-1.1-.9-2-2-2zM9 17H7v-7h2v7zm4 0h-2V7h2v10zm4 0h-2v-4h2v4z\"/>\n",
              "    </g>\n",
              "</svg>\n",
              "  </button>\n",
              "\n",
              "<style>\n",
              "  .colab-df-quickchart {\n",
              "      --bg-color: #E8F0FE;\n",
              "      --fill-color: #1967D2;\n",
              "      --hover-bg-color: #E2EBFA;\n",
              "      --hover-fill-color: #174EA6;\n",
              "      --disabled-fill-color: #AAA;\n",
              "      --disabled-bg-color: #DDD;\n",
              "  }\n",
              "\n",
              "  [theme=dark] .colab-df-quickchart {\n",
              "      --bg-color: #3B4455;\n",
              "      --fill-color: #D2E3FC;\n",
              "      --hover-bg-color: #434B5C;\n",
              "      --hover-fill-color: #FFFFFF;\n",
              "      --disabled-bg-color: #3B4455;\n",
              "      --disabled-fill-color: #666;\n",
              "  }\n",
              "\n",
              "  .colab-df-quickchart {\n",
              "    background-color: var(--bg-color);\n",
              "    border: none;\n",
              "    border-radius: 50%;\n",
              "    cursor: pointer;\n",
              "    display: none;\n",
              "    fill: var(--fill-color);\n",
              "    height: 32px;\n",
              "    padding: 0;\n",
              "    width: 32px;\n",
              "  }\n",
              "\n",
              "  .colab-df-quickchart:hover {\n",
              "    background-color: var(--hover-bg-color);\n",
              "    box-shadow: 0 1px 2px rgba(60, 64, 67, 0.3), 0 1px 3px 1px rgba(60, 64, 67, 0.15);\n",
              "    fill: var(--button-hover-fill-color);\n",
              "  }\n",
              "\n",
              "  .colab-df-quickchart-complete:disabled,\n",
              "  .colab-df-quickchart-complete:disabled:hover {\n",
              "    background-color: var(--disabled-bg-color);\n",
              "    fill: var(--disabled-fill-color);\n",
              "    box-shadow: none;\n",
              "  }\n",
              "\n",
              "  .colab-df-spinner {\n",
              "    border: 2px solid var(--fill-color);\n",
              "    border-color: transparent;\n",
              "    border-bottom-color: var(--fill-color);\n",
              "    animation:\n",
              "      spin 1s steps(1) infinite;\n",
              "  }\n",
              "\n",
              "  @keyframes spin {\n",
              "    0% {\n",
              "      border-color: transparent;\n",
              "      border-bottom-color: var(--fill-color);\n",
              "      border-left-color: var(--fill-color);\n",
              "    }\n",
              "    20% {\n",
              "      border-color: transparent;\n",
              "      border-left-color: var(--fill-color);\n",
              "      border-top-color: var(--fill-color);\n",
              "    }\n",
              "    30% {\n",
              "      border-color: transparent;\n",
              "      border-left-color: var(--fill-color);\n",
              "      border-top-color: var(--fill-color);\n",
              "      border-right-color: var(--fill-color);\n",
              "    }\n",
              "    40% {\n",
              "      border-color: transparent;\n",
              "      border-right-color: var(--fill-color);\n",
              "      border-top-color: var(--fill-color);\n",
              "    }\n",
              "    60% {\n",
              "      border-color: transparent;\n",
              "      border-right-color: var(--fill-color);\n",
              "    }\n",
              "    80% {\n",
              "      border-color: transparent;\n",
              "      border-right-color: var(--fill-color);\n",
              "      border-bottom-color: var(--fill-color);\n",
              "    }\n",
              "    90% {\n",
              "      border-color: transparent;\n",
              "      border-bottom-color: var(--fill-color);\n",
              "    }\n",
              "  }\n",
              "</style>\n",
              "\n",
              "  <script>\n",
              "    async function quickchart(key) {\n",
              "      const quickchartButtonEl =\n",
              "        document.querySelector('#' + key + ' button');\n",
              "      quickchartButtonEl.disabled = true;  // To prevent multiple clicks.\n",
              "      quickchartButtonEl.classList.add('colab-df-spinner');\n",
              "      try {\n",
              "        const charts = await google.colab.kernel.invokeFunction(\n",
              "            'suggestCharts', [key], {});\n",
              "      } catch (error) {\n",
              "        console.error('Error during call to suggestCharts:', error);\n",
              "      }\n",
              "      quickchartButtonEl.classList.remove('colab-df-spinner');\n",
              "      quickchartButtonEl.classList.add('colab-df-quickchart-complete');\n",
              "    }\n",
              "    (() => {\n",
              "      let quickchartButtonEl =\n",
              "        document.querySelector('#df-b38cf341-4b24-4868-9a47-b2256a1a9f4a button');\n",
              "      quickchartButtonEl.style.display =\n",
              "        google.colab.kernel.accessAllowed ? 'block' : 'none';\n",
              "    })();\n",
              "  </script>\n",
              "</div>\n",
              "    </div>\n",
              "  </div>\n"
            ]
          },
          "metadata": {},
          "execution_count": 13
        }
      ]
    },
    {
      "cell_type": "markdown",
      "source": [
        "##Pregunta 2: Índices, algoritmos y transacciones\n",
        "\n",
        "Para esta pregunta considere la tabla Persona(id int, nombre VARCHAR(100), edad int)"
      ],
      "metadata": {
        "id": "yxfYmJWOIQ1Z"
      }
    },
    {
      "cell_type": "markdown",
      "source": [
        "###a\\)"
      ],
      "metadata": {
        "id": "3Sxe278IIUGO"
      }
    },
    {
      "cell_type": "markdown",
      "source": [
        "Es natural pensar que la edad pueda tener valores repetidos para distintas personas.\n",
        "\n",
        "\n",
        "*   Explique cómo se puede hacer que un B+Tree pueda indexar el atributo edad de la relación Persona.\n",
        "*   Mencione cómo cambian los costos de busqueda para consultas de igualdad y rango.\n",
        "\n",
        "\n",
        "\n",
        "Hint: piense en las overflow pages del Hash."
      ],
      "metadata": {
        "id": "iQ6eHZP7IZLw"
      }
    },
    {
      "cell_type": "markdown",
      "source": [
        "**Solución**\n",
        "\n",
        "El B+Tree explicado en clases no está preparado para trabajar con duplicados. Una posible solución que al llegar a las hojas nos encontremos con un puntero a una lista de punteros (que se almacenan en una página de disco) en vez de un puntero a la tupla. Si un valor llega a tener muchos duplicados y los punteros no caben en una página tenemos que utilizar overflow pages.\n",
        "\n",
        "Para las consultas de igualdad aparte de bajar por el árbol debemos considerar recorrer todas las overflow pages del valor.\n",
        "Para las consultas de rango debemos considerar las overflow pages de todos los valores en el rango. Dado que el índice es unclustered debemos seguir sumando la cardinalidad del output de la consulta.\n",
        "\n",
        "20 puntos"
      ],
      "metadata": {
        "id": "fQWY63yuIyqf"
      }
    },
    {
      "cell_type": "markdown",
      "source": [
        "###b)"
      ],
      "metadata": {
        "id": "e8eegb0RJD7I"
      }
    },
    {
      "cell_type": "markdown",
      "source": [
        "Suponga que en esta relación la primary key está indexada con un B+Tree unclustered, mientras que la edad está indexada con un Hash Index clustered. La relación tiene 1 millón de tuplas y la columna id posee los valores del 0 al 999999. En cada página caben 50 tuplas y 200 punteros. El árbol es de altura h y las hojas están ocupadas al 75%. El Hash Index tiene una página por bucket (i.e. es suficientemente grande y no tiene overflow pages), y cada edad va a parar a un bucket distinto.\n",
        "\n",
        "Indique el costo en I/O de las siguientes consultas:"
      ],
      "metadata": {
        "id": "tlp9dlzxJHdl"
      }
    },
    {
      "cell_type": "markdown",
      "source": [
        "####1.\tSELECT * FROM Persona WHERE id=5555"
      ],
      "metadata": {
        "id": "iIhcByWXJYNc"
      }
    },
    {
      "cell_type": "markdown",
      "source": [
        "**Solución**\n",
        "\n",
        "h+2. o h+1\n",
        "\n",
        "2 puntos"
      ],
      "metadata": {
        "id": "oTiAHGRbJf2n"
      }
    },
    {
      "cell_type": "markdown",
      "source": [
        "####2.\tSELECT * FROM Persona WHERE id=55552.\tSELECT * FROM Persona WHERE nombre=’John Doe’"
      ],
      "metadata": {
        "id": "U1d694IzJkWJ"
      }
    },
    {
      "cell_type": "markdown",
      "source": [
        "**Solución**\n",
        "\n",
        "20000, porque se recorre la relación entera\n",
        "\n",
        "2 puntos"
      ],
      "metadata": {
        "id": "ltcgnMAdJkWK"
      }
    },
    {
      "cell_type": "markdown",
      "source": [
        "####3.\tSELECT * FROM Persona WHERE edad=55"
      ],
      "metadata": {
        "id": "EMRIIGL7JkgF"
      }
    },
    {
      "cell_type": "markdown",
      "source": [
        "**Solución**\n",
        "\n",
        "1\n",
        "\n",
        "2 puntos"
      ],
      "metadata": {
        "id": "LKbdvM9EJkgF"
      }
    },
    {
      "cell_type": "markdown",
      "source": [
        "####4.\tSELECT * FROM Persona WHERE id < 100000"
      ],
      "metadata": {
        "id": "1jNwM4t5JlKX"
      }
    },
    {
      "cell_type": "markdown",
      "source": [
        "**Solución**\n",
        "\n",
        "h + ⌈100.000/200⌉ + 100.000\n",
        "\n",
        "2 puntos"
      ],
      "metadata": {
        "id": "8Bkhy1axJlKm"
      }
    },
    {
      "cell_type": "markdown",
      "source": [
        "####5.\tSELECT * FROM Persona WHERE edad>=25 and edad < 55"
      ],
      "metadata": {
        "id": "GJpGAWruJlNW"
      }
    },
    {
      "cell_type": "markdown",
      "source": [
        "**Solución**\n",
        "\n",
        "30\n",
        "\n",
        "2 puntos"
      ],
      "metadata": {
        "id": "LM-riW6FJlNW"
      }
    },
    {
      "cell_type": "markdown",
      "source": [
        "##Pregunta 3: Transacciones y logs"
      ],
      "metadata": {
        "id": "wqXG-sUvJ8qs"
      }
    },
    {
      "cell_type": "markdown",
      "source": [
        "###a) Redo Logging\n",
        "Suponga que su sistema tuvo una falla. Al reiniciar el sistema, el sistema se encuentra con el log file que se muestra a continuación, en la tabla “Log Redo”. Suponiendo que la política de recovery es la de Redo Logging, indique:"
      ],
      "metadata": {
        "id": "i-4mVmf4cfOO"
      }
    },
    {
      "cell_type": "markdown",
      "source": [
        "|        Log Redo        |\n",
        "| ---------------------- |\n",
        "|      \\<START T1>       |\n",
        "|      \\<T1, a, 1>       |\n",
        "|      \\<COMMIT T1>      |\n",
        "|      \\<START T2>       |\n",
        "|      \\<T2, b, 10>      |\n",
        "|      \\<T2, c, 20>      |\n",
        "|      \\<START T3>       |\n",
        "|      \\<T3, a, 15>      |\n",
        "| \\<START CKPT (T2, T3)> |\n",
        "|      \\<T3, d, 23>      |\n",
        "|      \\<START T4>       |\n",
        "|      \\<END CKPT>       |\n",
        "|      \\<COMMIT T3>      |\n",
        "|      \\<T4, e, 11>      |\n"
      ],
      "metadata": {
        "id": "fdRQhnLZeNvW"
      }
    },
    {
      "cell_type": "markdown",
      "source": [
        "####i.\tDesde qué parte del log debo comenzar el proceso de redo.\n"
      ],
      "metadata": {
        "id": "6WvoOsrFcuZE"
      }
    },
    {
      "cell_type": "markdown",
      "source": [
        "**Solución**\n",
        "\n",
        "Comienza desde <START CKPT (T2, T3)>\n",
        "\n",
        "3 puntos"
      ],
      "metadata": {
        "id": "GTqKNr8wdQiq"
      }
    },
    {
      "cell_type": "markdown",
      "source": [
        "####ii.\tQué variables deben rehacer sus cambios y cuál es el valor con el que quedarán."
      ],
      "metadata": {
        "id": "MXAA_I7ScxxJ"
      }
    },
    {
      "cell_type": "markdown",
      "source": [
        "**Solución**\n",
        "\n",
        "a debe rehacerse con  15 por T3\n",
        "b debe rehacerse con  10 por T2\n",
        "c debe rehacerse con  20 por T2\n",
        "d debe rehacerse con  23 por T3\n",
        "e debe rehacerse con  11 por T4\n",
        "\n",
        "4 puntos"
      ],
      "metadata": {
        "id": "suXd8hD-dQYd"
      }
    },
    {
      "cell_type": "markdown",
      "source": [
        "####iii.\tQué variables (de las que aparecen en el log) no son cambiadas en el proceso."
      ],
      "metadata": {
        "id": "s7r4HRg3c2nO"
      }
    },
    {
      "cell_type": "markdown",
      "source": [
        "**Solución**\n",
        "\n",
        "Solo a en T1, aunque después se modifica en T3\n",
        "\n",
        "3 puntos"
      ],
      "metadata": {
        "id": "z4WgHOzudQC5"
      }
    },
    {
      "cell_type": "markdown",
      "source": [
        "####iv.\tSi no hubiesemos encontrado la línea <END CKPT>, ¿desde qué parte del log debería comenzar el proceso de redo?. Justifique su respuesta explicando qué significa no haber encontrado un \\<END CKPT>."
      ],
      "metadata": {
        "id": "5g2I8X7Rc45i"
      }
    },
    {
      "cell_type": "markdown",
      "source": [
        "**Solución**\n",
        "\n",
        "Desde el inicio del Log o desde el último checkpoint terminado (en este log no hay). Si no hay end significa que el checkpoint no terminó.\n",
        "\n",
        "4 puntos"
      ],
      "metadata": {
        "id": "aZyueqN6dKA0"
      }
    },
    {
      "cell_type": "markdown",
      "source": [
        "###b)\n",
        "A continuación hay dos transacciones T1 y T2 en las cuales A, B y C son tres valores distintos en la base de datos."
      ],
      "metadata": {
        "id": "apHXhTOIlOYn"
      }
    },
    {
      "cell_type": "markdown",
      "source": [
        "|    T1       |    T2     |\n",
        "| ----------- | --------- |\n",
        "|   R(A)      |   R(A)    |\n",
        "|  W(B, A*2)  | W(A, A-5) |\n",
        "|   R(C)      |   R(C)    |\n",
        "| W(C, C-100) | W(C, C+A) |\n",
        "\n",
        "\n",
        "Donde 'R(A)' representa la lectura del valor 'A', y 'W(A,B)' representa la escritura de 'A' con el valor 'B' (i.e. escribir 'B' en 'A')."
      ],
      "metadata": {
        "id": "BCZ9jJWqlZ6G"
      }
    },
    {
      "cell_type": "markdown",
      "source": [
        "Para los siguientes tipos de conflictos indique si es posible que ocurra:"
      ],
      "metadata": {
        "id": "Bxx34YUFmX6a"
      }
    },
    {
      "cell_type": "markdown",
      "source": [
        "####Escritura-lectura (WR)\n"
      ],
      "metadata": {
        "id": "MAYqc4Uhmbk1"
      }
    },
    {
      "cell_type": "markdown",
      "source": [
        "**Solución**\n",
        "\n",
        "No hay, porque en T2 no hay Read (X) luego de un Write (X) en T1"
      ],
      "metadata": {
        "id": "mzdXDiigmbk_"
      }
    },
    {
      "cell_type": "markdown",
      "source": [
        "####Lectura-escritura (RW)"
      ],
      "metadata": {
        "id": "8fuOoGW-mblA"
      }
    },
    {
      "cell_type": "markdown",
      "source": [
        "**Solución**\n",
        "\n",
        "No hay, porque  en T1 no hay Write (X)  luego de un Read (X) en T1"
      ],
      "metadata": {
        "id": "PQPVVBimmblA"
      }
    },
    {
      "cell_type": "markdown",
      "source": [
        "\n",
        "####Escritura-escritura (WW)"
      ],
      "metadata": {
        "id": "juUfWi3TmblA"
      }
    },
    {
      "cell_type": "markdown",
      "source": [
        "**Solución**\n",
        "\n",
        "Si hay porque ambas escriben C en T1 y T2"
      ],
      "metadata": {
        "id": "ox5TAYW_mblA"
      }
    },
    {
      "cell_type": "markdown",
      "source": [
        "**1pt por respuesta y 1 pt por justificación en cada item.**"
      ],
      "metadata": {
        "id": "QdHAESiGFzNY"
      }
    }
  ]
}