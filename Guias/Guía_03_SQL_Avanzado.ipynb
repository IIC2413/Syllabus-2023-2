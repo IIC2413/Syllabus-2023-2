{
  "nbformat": 4,
  "nbformat_minor": 0,
  "metadata": {
    "colab": {
      "provenance": []
    },
    "kernelspec": {
      "name": "python3",
      "display_name": "Python 3"
    }
  },
  "cells": [
    {
      "cell_type": "markdown",
      "metadata": {
        "id": "vMe_cruNz0t3"
      },
      "source": [
        "#Guía 3: SQL Avanzado\n",
        "\n",
        "En esta guía usted deberá realizar consultas SQL en un servidor virtual con PostgreSQL que contiene\n",
        "datos de películas extraídos de IMDb. El esquema de los datos es el siguiente:\n",
        "\n",
        "* $\\color{green}{\\textbf{pelicula}}(\\color{blue}{\\underline{\\text{nombre}}}, \\color{blue}{\\underline{\\text{anho}}}, \\color{blue}{\\text{calificacion}})$\n",
        "* $\\color{green}{\\textbf{actor}}(\\color{blue}{\\underline{\\text{nombre}}}, \\color{blue}{\\text{genero}})$\n",
        "* $\\color{green}{\\textbf{personaje}}(\\color{blue}{\\underline{\\text{p_nombre}}}, \\color{blue}{\\underline{\\text{p_anho}}},  \\color{blue}{\\underline{\\text{a_nombre}}}, \\color{blue}{\\underline{\\text{personaje}}})$\n",
        "\n",
        "La tabla $\\color{green}{\\textbf{personaje}}$ usa llaves foráneas que hacen referencia a las tablas de $\\color{green}{\\textbf{actor}}(\\color{blue}{\\underline{\\text{a_nombre}}})$ y $\\color{green}{\\textbf{pelicula}}(\\color{blue}{\\underline{\\text{p_nombre}}}, \\color{blue}{\\underline{\\text{p_anho}}})$.\n",
        "\n",
        "Para iniciar el servidor virtual, instalar la base de datos postgres, y descargar los datos e importarlos, debe correr el siguiente bloque:\n",
        "\n"
      ]
    },
    {
      "cell_type": "code",
      "metadata": {
        "id": "xN9MrCqDyMym"
      },
      "source": [
        "# install\n",
        "!apt update\n",
        "!apt install postgresql postgresql-contrib &>log\n",
        "!service postgresql start\n",
        "!sudo -u postgres psql -c \"CREATE USER root WITH SUPERUSER\"\n",
        "# set connection\n",
        "%load_ext sql\n",
        "%config SqlMagic.feedback=False\n",
        "%config SqlMagic.autopandas=True\n",
        "%sql postgresql+psycopg2://@/postgres\n",
        "!wget -cO - https://drive.google.com/uc\\?export\\=download\\&id\\=1g7UsolqIt5CatIUiWKQNiQ4sT6zsCZnk > /content/guia2.sql\n",
        "!psql postgres < /content/guia2.sql\n",
        "%sql set search_path to guia;"
      ],
      "execution_count": null,
      "outputs": []
    },
    {
      "cell_type": "markdown",
      "metadata": {
        "id": "ydn64zTV5o9m"
      },
      "source": [
        "Ejecute la siguiente consulta para probar que todo ande bien:"
      ]
    },
    {
      "cell_type": "code",
      "metadata": {
        "id": "YswMeCEv2NKP"
      },
      "source": [
        "%sql SELECT * FROM pelicula;"
      ],
      "execution_count": null,
      "outputs": []
    },
    {
      "cell_type": "markdown",
      "metadata": {
        "id": "ETAuRqPi5vxa"
      },
      "source": [
        "Para ejecutar consultas multi-lineas use el tag %%sql:"
      ]
    },
    {
      "cell_type": "code",
      "metadata": {
        "id": "LvtXc3xx50Cc"
      },
      "source": [
        "%%sql\n",
        "SELECT * FROM\n",
        "pelicula;"
      ],
      "execution_count": null,
      "outputs": []
    },
    {
      "cell_type": "markdown",
      "metadata": {
        "id": "aInV46h9vCac"
      },
      "source": [
        "\n",
        "\n",
        "## Pregunta 1\n",
        "La cantidad de películas"
      ]
    },
    {
      "cell_type": "code",
      "metadata": {
        "id": "Pa7-u8WSvC_C"
      },
      "source": [],
      "execution_count": null,
      "outputs": []
    },
    {
      "cell_type": "markdown",
      "metadata": {
        "id": "mBTyZPP4vBKU"
      },
      "source": [
        "##Pregunta 2\n",
        "La cantidad de años distintos de estreno de las películas"
      ]
    },
    {
      "cell_type": "code",
      "metadata": {
        "id": "BYNyhlZ9vD3P"
      },
      "source": [],
      "execution_count": null,
      "outputs": []
    },
    {
      "cell_type": "markdown",
      "metadata": {
        "id": "VyoNDs08vQXG"
      },
      "source": [
        "##Pregunta 3\n",
        "Los nombres, años y calificaciones de las 10 películas mejor calificadas, ordenadas por calificación descendente, luego por nombre ascendente y luego por año ascendente (solo hay que devolver 10 tuplas, incluso si hay empates de calificación)."
      ]
    },
    {
      "cell_type": "code",
      "metadata": {
        "id": "1CM2XsRavQqN"
      },
      "source": [],
      "execution_count": null,
      "outputs": []
    },
    {
      "cell_type": "markdown",
      "metadata": {
        "id": "P3noIPZFvRHl"
      },
      "source": [
        "##Pregunta 4\n",
        "Los nombres de los actores y las actrices que aparecen en las películas de la Pregunta 3. Cada actor/actriz solo debe aparecer en los resultados una vez.\n"
      ]
    },
    {
      "cell_type": "code",
      "metadata": {
        "id": "_ijqbcpOvRYT"
      },
      "source": [],
      "execution_count": null,
      "outputs": []
    },
    {
      "cell_type": "markdown",
      "metadata": {
        "id": "KpE7KHiUvRm4"
      },
      "source": [
        "##Pregunta 5\n",
        "Los nombres de solo las actrices de las películas de la Pregunta 4. Cada actriz debe aparecer en los resultados solo una vez."
      ]
    },
    {
      "cell_type": "code",
      "metadata": {
        "id": "j_n0KfNBvR4R"
      },
      "source": [],
      "execution_count": null,
      "outputs": []
    },
    {
      "cell_type": "markdown",
      "metadata": {
        "id": "ead9Rp2svSRl"
      },
      "source": [
        "##Pregunta 6\n",
        "Las distintas décadas de las películas en las cuales apareció Clint Eastwood. (Tiene tres resultados; uno es 1960.)"
      ]
    },
    {
      "cell_type": "code",
      "metadata": {
        "id": "NTek9bLsvSg3"
      },
      "source": [],
      "execution_count": null,
      "outputs": []
    },
    {
      "cell_type": "markdown",
      "metadata": {
        "id": "wQCBNypNvSul"
      },
      "source": [
        "##Pregunta 7\n",
        "El conteo de películas distintas por año (para cada año en la tabla pelicula, devolver su conteo de películas)."
      ]
    },
    {
      "cell_type": "code",
      "metadata": {
        "id": "2rFrQNVZvS95"
      },
      "source": [],
      "execution_count": null,
      "outputs": []
    },
    {
      "cell_type": "markdown",
      "metadata": {
        "id": "ltt_rLRhvTSx"
      },
      "source": [
        "##Pregunta 8\n",
        "Devuelva los mismos resultados como en la Pregunta 7, pero ordenados por conteo descendente y borrando los años cuyo conteo sea menor que 2."
      ]
    },
    {
      "cell_type": "code",
      "metadata": {
        "id": "EJytM7z1vThl"
      },
      "source": [],
      "execution_count": null,
      "outputs": []
    },
    {
      "cell_type": "markdown",
      "metadata": {
        "id": "HyxMc_mevTyS"
      },
      "source": [
        "##Pregunta 9\n",
        "Sea una buena película una película con una calificación $\\geq 8{,}6$. Para cada actor/actriz, cuente sus distintas buenas películas. Si un actor/una actriz no tiene una buena película, se puede omitirlo/la de los resultados. Ordene los resultados por conteo descendente."
      ]
    },
    {
      "cell_type": "code",
      "metadata": {
        "id": "guNBDUwrvUAq"
      },
      "source": [],
      "execution_count": null,
      "outputs": []
    },
    {
      "cell_type": "markdown",
      "metadata": {
        "id": "CPjULV75vUV-"
      },
      "source": [
        "##Pregunta 10\n",
        "Cuente el número de actrices distintas por película. De haber una película sin actrices, deje un conteo de 0 (en vez de omitir la película)."
      ]
    },
    {
      "cell_type": "code",
      "metadata": {
        "id": "PYUkkWRevUnW"
      },
      "source": [],
      "execution_count": null,
      "outputs": []
    }
  ]
}